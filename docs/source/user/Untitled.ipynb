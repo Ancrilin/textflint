{
 "cells": [
  {
   "cell_type": "markdown",
   "metadata": {},
   "source": [
    "# FlintModel"
   ]
  },
  {
   "cell_type": "markdown",
   "metadata": {},
   "source": [
    "FlintModel is a necessary input to apply adversarial attack or generate robustness report.  TextFlint allows practitioners to customize target model, practitioners just need to wrap their own models through FlintModel and implement the corresponding interfaces. "
   ]
  },
  {
   "cell_type": "code",
   "execution_count": 2,
   "metadata": {},
   "outputs": [],
   "source": [
    "import sys\n",
    "sys.path.append('/Users/wangxiao/code/python/RobustnessTool/TextRobustness/textrobustness')"
   ]
  },
  {
   "cell_type": "markdown",
   "metadata": {},
   "source": [
    "## How to customize targe model"
   ]
  },
  {
   "cell_type": "markdown",
   "metadata": {},
   "source": [
    "* You need provide the tokenizer object corresponding to the model, which is used to process the sample into the input of the model. This may include tokenize the text, and convert tokens to ids.\n",
    "\n",
    "* You need to provide your own model object to support the prediction function of the model."
   ]
  },
  {
   "cell_type": "markdown",
   "metadata": {},
   "source": [
    "e.g."
   ]
  },
  {
   "cell_type": "code",
   "execution_count": null,
   "metadata": {},
   "outputs": [],
   "source": []
  }
 ],
 "metadata": {
  "kernelspec": {
   "display_name": "Python [conda env:.conda-torch] *",
   "language": "python",
   "name": "conda-env-.conda-torch-py"
  },
  "language_info": {
   "codemirror_mode": {
    "name": "ipython",
    "version": 3
   },
   "file_extension": ".py",
   "mimetype": "text/x-python",
   "name": "python",
   "nbconvert_exporter": "python",
   "pygments_lexer": "ipython3",
   "version": "3.7.7"
  }
 },
 "nbformat": 4,
 "nbformat_minor": 4
}
